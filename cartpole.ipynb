{
 "cells": [
  {
   "cell_type": "code",
   "execution_count": 6,
   "id": "576cb6a2",
   "metadata": {},
   "outputs": [],
   "source": [
    "import numpy as np\n",
    "import gymnasium as gym\n",
    "import matplotlib.pyplot as plt\n",
    "import random\n",
    "import math"
   ]
  },
  {
   "cell_type": "code",
   "execution_count": 89,
   "id": "45f27408",
   "metadata": {},
   "outputs": [],
   "source": [
    "# number of states\n",
    "n = 10\n",
    "num_states = n\n",
    "total_num_states = n**4\n",
    "# maximum velue of position , velocity and angle\n",
    "\n",
    "max_pos = 4.8\n",
    "max_vel = 3\n",
    "max_ang = 0.418\n",
    "max_values =[max_pos, max_vel ,max_ang]\n",
    "\n",
    "# granuity of each respective values\n",
    "gran_pos = (2*max_values[0])/num_states\n",
    "gran_vel = (2*max_values[1])/num_states\n",
    "gran_ang = (2*max_values[2])/num_states\n",
    "\n",
    "\n",
    "gran = [gran_pos, gran_vel, gran_ang]\n",
    "\n",
    "\n",
    "states = {'pos' : [],'vel' : [], 'ang': []}\n",
    "\n",
    "# making the states to numbered stated list\n",
    "for i in range(n+1):\n",
    "    states['pos'].append(-max_values[0] + i*gran[0])\n",
    "    states['vel'].append(-max_values[1]+i*gran[1])\n",
    "    states['ang'].append(-max_values[2]+i*gran[2])\n"
   ]
  },
  {
   "cell_type": "code",
   "execution_count": 107,
   "id": "5ec175bc",
   "metadata": {},
   "outputs": [],
   "source": [
    "\n",
    "\n",
    "class td_lambda:\n",
    "    def __init__(self,num_states,num_actions,episodes,alpha,gamma,epsilon,lamda,states):\n",
    "        self.episodes = episodes\n",
    "        self.alpha = alpha\n",
    "        self.gamma = gamma\n",
    "        self.epsilon = epsilon\n",
    "        self.lamda = lamda\n",
    "        self.Q = np.zeros((num_states,num_actions))\n",
    "        self.E = np.zeros((num_states,num_actions))\n",
    "        self.num_states = num_states\n",
    "        self.num_actions = num_actions\n",
    "    def granualise(self,state):\n",
    "        # comparing the current state and the numbered list\n",
    "\n",
    "        for i in range(num_states):\n",
    "            if state[0] < states['pos'][i]:\n",
    "                state[0] = int(i-1)\n",
    "                break\n",
    "\n",
    "        for i in range(num_states):\n",
    "            if state[1] < states['vel'][i]:\n",
    "                state[1] = int(i-1)\n",
    "                break\n",
    "\n",
    "        for i in range(num_states):\n",
    "            if state[2] < states['ang'][i]:\n",
    "                state[2] = int(i-1)\n",
    "                break\n",
    "\n",
    "        for i in range(num_states):\n",
    "            if state[3] < states['vel'][i]:\n",
    "                state[3] = int(i-1)\n",
    "                break\n",
    "        return int(state[0]*(n**3)+state[1]*(n**2)+state[2]*(n**1)+state[3]*(n**0))\n",
    "\n",
    "    def chose_action(self,state):\n",
    "        if np.random.uniform(0,1) < self.epsilon:\n",
    "            action = env.action_space.sample()\n",
    "\n",
    "        elif np.max(self.Q[state])>0:\n",
    "            action = np.argmax(self.Q[state])\n",
    "        else:\n",
    "            action = env.action_space.sample()\n",
    "        return action\n",
    "        \n",
    "    def update(self,state, action, reward, next_state):\n",
    "        delta = reward + self.gamma*(max(self.Q[next_state])) - self.Q[state,action]\n",
    "        self.E[state,action] += 1\n",
    "\n",
    "        self.Q += self.alpha*delta*self.E\n",
    "        self.E = self.gamma*self.lamda*self.E\n",
    "\n",
    "            \n",
    "    \n",
    "    def train(self,env):\n",
    "        states_visited = []\n",
    "        rewards = []\n",
    "        for epi in range(self.episodes):\n",
    "            state = env.reset()[0]\n",
    "            state = self.granualise(state)\n",
    "            done = False\n",
    "            reward_per_epi = 0\n",
    "            self.E = np.zeros((self.num_states,self.num_actions))\n",
    "            while not done:\n",
    "                #chose action\n",
    "                action = self.chose_action(state)\n",
    "                \n",
    "                #take the action\n",
    "                new_state,reward,terminated,truncated,info = env.step(action)\n",
    "                reward_per_epi += reward\n",
    "                new_state = self.granualise(new_state)\n",
    "                done = truncated or terminated\n",
    "                \n",
    "                #update Q\n",
    "                self.update(state,action,reward,new_state)\n",
    "                states_visited.append(state)\n",
    "                \n",
    "                #update the state\n",
    "                state = new_state\n",
    "\n",
    "            rewards.append(reward_per_epi)\n",
    "            \n",
    "        return (rewards,states_visited)\n",
    "                \n",
    "    \n",
    "\n",
    "\n"
   ]
  },
  {
   "cell_type": "code",
   "execution_count": 152,
   "id": "ec1f2cc5",
   "metadata": {},
   "outputs": [
    {
     "name": "stdout",
     "output_type": "stream",
     "text": [
      "traning done\n",
      "after training\n",
      "[[0. 0.]\n",
      " [0. 0.]\n",
      " [0. 0.]\n",
      " ...\n",
      " [0. 0.]\n",
      " [0. 0.]\n",
      " [0. 0.]]\n"
     ]
    }
   ],
   "source": [
    "env = gym.make(\"CartPole-v1\")\n",
    "env.reset()\n",
    "env.render()\n",
    "\n",
    "\n",
    "#hyperparameters\n",
    "episodes = 3000\n",
    "alpha = 0.9 #learning rate\n",
    "gamma = 1 #discount factor\n",
    "epsilon = 0.05 #Exploration factor\n",
    "lamda = 0.9 #td(lamda)\n",
    "# states\n",
    "\n",
    "# num of states = total_num_states\n",
    "num_actions = 2\n",
    "\n",
    "\n",
    "\n",
    "\n",
    "outcomes = []\n",
    "rewards_list = []\n",
    "#Moving through episodes\n",
    "timestep_list = []\n",
    "success = 0\n",
    "failure = 0\n",
    "\n",
    "\n",
    "\n",
    "agent = td_lambda(total_num_states,num_actions,episodes,alpha,gamma,epsilon,lamda,states)\n",
    "\n",
    "(rewards,states_visited) = agent.train(env)\n",
    "\n",
    "print(\"traning done\")\n",
    "print(\"after training\")\n",
    "print(agent.Q)\n",
    "env.close()\n",
    "        \n",
    "\n",
    "\n",
    "\n",
    "\n",
    "    \n",
    "    \n",
    "        "
   ]
  },
  {
   "cell_type": "code",
   "execution_count": 153,
   "id": "3802d898",
   "metadata": {},
   "outputs": [
    {
     "name": "stdout",
     "output_type": "stream",
     "text": [
      "294\n",
      "10000\n"
     ]
    }
   ],
   "source": [
    "i = agent.Q != 0\n",
    "x = []\n",
    "for item in agent.Q:\n",
    "    if item[0] != 0 or item[1] != 0:\n",
    "        x.append(item)\n",
    "print(len(x))\n",
    "print(len(agent.Q))"
   ]
  },
  {
   "cell_type": "code",
   "execution_count": 154,
   "id": "0a0b9dd5",
   "metadata": {},
   "outputs": [
    {
     "name": "stdout",
     "output_type": "stream",
     "text": [
      "294\n",
      "59099\n"
     ]
    }
   ],
   "source": [
    "states_visted = np.array(states_visited)\n",
    "i = states_visted != 0\n",
    "print(len(np.unique(states_visited)))\n",
    "print(len(states_visited))"
   ]
  },
  {
   "cell_type": "code",
   "execution_count": 155,
   "id": "b59dfcd1",
   "metadata": {},
   "outputs": [
    {
     "data": {
      "image/png": "[encoded data removed]",
      "text/plain": [
       "<Figure size 640x480 with 1 Axes>"
      ]
     },
     "metadata": {},
     "output_type": "display_data"
    }
   ],
   "source": [
    "x = np.arange(episodes)\n",
    "y = rewards\n",
    "  \n",
    "plt.bar(x, y)\n",
    "plt.xlabel(\"X-axis\")\n",
    "plt.ylabel(\"Y-axis\")\n",
    "plt.title(\"Any suitable title\")\n",
    "plt.show()\n"
   ]
  },
  {
   "cell_type": "code",
   "execution_count": 67,
   "id": "d724e915",
   "metadata": {},
   "outputs": [
    {
     "name": "stdout",
     "output_type": "stream",
     "text": [
      "1000\n"
     ]
    }
   ],
   "source": [
    "count = 0\n",
    "for item in outcomes:\n",
    "    if item == 'Failure':\n",
    "        count += 1\n",
    "print(count)"
   ]
  },
  {
   "cell_type": "code",
   "execution_count": 105,
   "id": "0498a84e",
   "metadata": {},
   "outputs": [
    {
     "name": "stdout",
     "output_type": "stream",
     "text": [
      "0\n"
     ]
    }
   ],
   "source": [
    "env = gym.make(\"CartPole-v1\")\n",
    "env.reset()\n",
    "env.render()\n",
    "print(env.action_space.sample())"
   ]
  },
  {
   "cell_type": "code",
   "execution_count": 323,
   "id": "36934aaf",
   "metadata": {},
   "outputs": [
    {
     "name": "stdout",
     "output_type": "stream",
     "text": [
      "3\n",
      "2\n",
      "1\n",
      "0\n"
     ]
    }
   ],
   "source": [
    "for i in range(4,0,-1):\n",
    "    print(i-1)\n"
   ]
  },
  {
   "cell_type": "code",
   "execution_count": 365,
   "id": "ebb698d7",
   "metadata": {},
   "outputs": [
    {
     "data": {
      "text/plain": [
       "500.0"
      ]
     },
     "execution_count": 365,
     "metadata": {},
     "output_type": "execute_result"
    }
   ],
   "source": [
    "np.max(rewards_list)"
   ]
  },
  {
   "cell_type": "code",
   "execution_count": 383,
   "id": "2f83b058",
   "metadata": {},
   "outputs": [
    {
     "name": "stdout",
     "output_type": "stream",
     "text": [
      "9.999999999243464\n",
      "56\n"
     ]
    }
   ],
   "source": [
    "print(np.max(value_func))\n",
    "count = 0\n",
    "for item in value_func:\n",
    "    if np.max(item) != 0:\n",
    "        count += 1\n",
    "print(count)"
   ]
  },
  {
   "cell_type": "code",
   "execution_count": null,
   "id": "e5c1883e",
   "metadata": {},
   "outputs": [],
   "source": [
    "    if done:\n",
    "        Q_n = rewards\n",
    "    else:\n",
    "        action = chose_action(new_state) \n",
    "\n",
    "        Q_n =rewards+(gamma)*value_func[new_state,action]\n",
    "    Q.append(Q_n)\n",
    "    # calculate G\n",
    "    for i in range(len(Q)):\n",
    "        if i == (len(Q)-1):\n",
    "            G += (lamda**i)*Q[i]\n",
    "        else:\n",
    "            G += (1-lamda)*(lamda**i)*Q[i]\n",
    "    #update the value function  \n",
    "        "
   ]
  }
 ],
 "metadata": {
  "kernelspec": {
   "display_name": "Python 3 (ipykernel)",
   "language": "python",
   "name": "python3"
  },
  "language_info": {
   "codemirror_mode": {
    "name": "ipython",
    "version": 3
   },
   "file_extension": ".py",
   "mimetype": "text/x-python",
   "name": "python",
   "nbconvert_exporter": "python",
   "pygments_lexer": "ipython3",
   "version": "3.9.13"
  }
 },
 "nbformat": 4,
 "nbformat_minor": 5
}
